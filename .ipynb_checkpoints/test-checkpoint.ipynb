{
 "cells": [
  {
   "cell_type": "code",
   "execution_count": 7,
   "metadata": {},
   "outputs": [],
   "source": [
    "from JapaneseTokenizer import MecabWrapper, JumanWrapper, JumanppWrapper"
   ]
  },
  {
   "cell_type": "code",
   "execution_count": 28,
   "metadata": {},
   "outputs": [],
   "source": [
    "sen1 = 'テヘランは、西アジア、イランの首都でありかつテヘラン州の州都。人口12,223,598人。都市圏人口は13,413,348人に達する。'\n",
    "sen2 = '10日放送の「中居正広のミになる図書館」（テレビ朝日系）で、SMAPの中居正広が、篠原信一の過去の勘違いを明かす一幕があった。'"
   ]
  },
  {
   "cell_type": "code",
   "execution_count": 24,
   "metadata": {},
   "outputs": [],
   "source": [
    "mecab_wrapper = MecabWrapper(dictType=\"neologd\")\n",
    "juman_wrapper = JumanWrapper()"
   ]
  },
  {
   "cell_type": "code",
   "execution_count": 29,
   "metadata": {},
   "outputs": [],
   "source": [
    "sen1_mecab = mecab_wrapper.tokenize(sentence=sen1, is_feature=False, is_surface=False)\n",
    "sen1_juman = juman_wrapper.tokenize(sentence=sen1, is_feature=False, is_surface=False)"
   ]
  },
  {
   "cell_type": "code",
   "execution_count": 30,
   "metadata": {},
   "outputs": [
    {
     "name": "stdout",
     "output_type": "stream",
     "text": [
      "34 38\n"
     ]
    }
   ],
   "source": [
    "print(len(sen1_mecab.convert_list_object()), len(sen1_juman.convert_list_object()))"
   ]
  },
  {
   "cell_type": "code",
   "execution_count": 34,
   "metadata": {},
   "outputs": [
    {
     "data": {
      "text/plain": [
       "<JapaneseTokenizer.datamodels.FilteredObject at 0x11ef25978>"
      ]
     },
     "execution_count": 34,
     "metadata": {},
     "output_type": "execute_result"
    }
   ],
   "source": [
    "sen1_mecab.filter(stopwords=[], pos_condition=[])"
   ]
  },
  {
   "cell_type": "code",
   "execution_count": 35,
   "metadata": {},
   "outputs": [
    {
     "data": {
      "text/plain": [
       "['テヘラン',\n",
       " 'は',\n",
       " '、',\n",
       " '西アジア',\n",
       " '、',\n",
       " 'イラン',\n",
       " 'の',\n",
       " '首都',\n",
       " 'だ',\n",
       " 'ある',\n",
       " 'かつ',\n",
       " 'テヘラン',\n",
       " '州',\n",
       " 'の',\n",
       " '州都',\n",
       " '。',\n",
       " '人口',\n",
       " '12',\n",
       " ',',\n",
       " '223',\n",
       " ',',\n",
       " '598人',\n",
       " '。',\n",
       " '都市圏',\n",
       " '人口',\n",
       " 'は',\n",
       " '13',\n",
       " ',',\n",
       " '413',\n",
       " ',',\n",
       " '348人',\n",
       " 'に',\n",
       " '達する',\n",
       " '。']"
      ]
     },
     "execution_count": 35,
     "metadata": {},
     "output_type": "execute_result"
    }
   ],
   "source": [
    "sen1_mecab.convert_list_object()"
   ]
  },
  {
   "cell_type": "code",
   "execution_count": null,
   "metadata": {},
   "outputs": [],
   "source": []
  }
 ],
 "metadata": {
  "kernelspec": {
   "display_name": "Python 3",
   "language": "python",
   "name": "python3"
  },
  "language_info": {
   "codemirror_mode": {
    "name": "ipython",
    "version": 3
   },
   "file_extension": ".py",
   "mimetype": "text/x-python",
   "name": "python",
   "nbconvert_exporter": "python",
   "pygments_lexer": "ipython3",
   "version": "3.7.1"
  }
 },
 "nbformat": 4,
 "nbformat_minor": 2
}
