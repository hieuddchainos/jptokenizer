{
 "cells": [
  {
   "cell_type": "code",
   "execution_count": 1,
   "metadata": {},
   "outputs": [],
   "source": [
    "import numpy as np\n",
    "from JapaneseTokenizer import MecabWrapper"
   ]
  },
  {
   "cell_type": "markdown",
   "metadata": {},
   "source": [
    "## Convert Text to Paragraphs"
   ]
  },
  {
   "cell_type": "code",
   "execution_count": 2,
   "metadata": {},
   "outputs": [],
   "source": [
    "def text2paragraphs(text):\n",
    "    list_paragraph = [paragraph.strip() for paragraph in text.split('\\n') if paragraph]\n",
    "    return list_paragraph"
   ]
  },
  {
   "cell_type": "markdown",
   "metadata": {},
   "source": [
    "## Tokenizer (Mecab)"
   ]
  },
  {
   "cell_type": "code",
   "execution_count": 13,
   "metadata": {},
   "outputs": [],
   "source": [
    "def par2token(paragraph):\n",
    "    mecab_wrapper = MecabWrapper(dictType='neologd')\n",
    "    return mecab_wrapper.tokenize(sentence=paragraph, return_list=1)"
   ]
  },
  {
   "cell_type": "markdown",
   "metadata": {},
   "source": [
    "## TF-IDF\n",
    "$tf(t,d) = \\frac{f(t,d)}{max{f(w,d): w \\in d}}$  \n",
    "$idf(t,D) = log\\frac{|D|}{|{d \\in D: t \\in d}|}$  \n",
    "$tfidf(t,d,D) = tf(t,d) * idf(t,D)$"
   ]
  },
  {
   "cell_type": "code",
   "execution_count": 8,
   "metadata": {},
   "outputs": [],
   "source": [
    "def compute_TF(para_dict):\n",
    "    tf_dict = {}\n",
    "    max_val = max(para_dict.values())\n",
    "    for word, value in para_dict.items():\n",
    "        tf_dict[word] = value/max_val\n",
    "    \n",
    "    return tf_dict"
   ]
  },
  {
   "cell_type": "code",
   "execution_count": 9,
   "metadata": {},
   "outputs": [],
   "source": [
    "def compute_IDF(doc_list):\n",
    "    import math\n",
    "    idf_dict = {}\n",
    "    N = len(doc_list)\n",
    "    \n",
    "    #count number of paragraphs that contain this word\n",
    "    idf_dict = dict.fromkeys(doc_list[0].keys(), 0)\n",
    "    for doc in doc_list:\n",
    "        for word, count in doc.items():\n",
    "            if count > 0:\n",
    "                idf_dict[word] += 1\n",
    "                \n",
    "    for word, count in idf_dict.items():\n",
    "        idf_dict[word] = math.log(N/float(count))\n",
    "        \n",
    "    return idf_dict"
   ]
  },
  {
   "cell_type": "code",
   "execution_count": 10,
   "metadata": {},
   "outputs": [],
   "source": [
    "def compute_TFIDF(tf_bow, idfs):\n",
    "    tfidf = {}\n",
    "    for word, val in tf_bow.items():\n",
    "        tfidf[word] = val*idfs[word]\n",
    "    return tfidf"
   ]
  },
  {
   "cell_type": "markdown",
   "metadata": {},
   "source": [
    "## doc2dicts"
   ]
  },
  {
   "cell_type": "code",
   "execution_count": 55,
   "metadata": {},
   "outputs": [],
   "source": [
    "def doc2dicts(list_paragraph):\n",
    "    # Find all Bag of words\n",
    "    bows = []\n",
    "    for par in list_paragraph:\n",
    "        idx = list_paragraph.index(par)\n",
    "        bows.append(par2token(par))\n",
    "    \n",
    "    # Create dictionary of all words\n",
    "    total_word_dict = set()\n",
    "    for bow in bows:\n",
    "        total_word_dict = total_word_dict.union(bow)\n",
    "    \n",
    "    # Create dictionary for each paragraph\n",
    "    word_dict = []\n",
    "    for i in range(len(list_paragraph)):\n",
    "        word_dict.append(dict.fromkeys(total_word_dict, 0))\n",
    "    for bow in bows:\n",
    "        idx = bows.index(bow)\n",
    "        for word in bow:\n",
    "            word_dict[idx][word] +=1\n",
    "    \n",
    "    return total_word_dict, word_dict"
   ]
  },
  {
   "cell_type": "markdown",
   "metadata": {},
   "source": [
    "## Sample"
   ]
  },
  {
   "cell_type": "code",
   "execution_count": 11,
   "metadata": {},
   "outputs": [],
   "source": [
    "text = \"\"\"２月２７～２８日の米朝首脳会談で、トランプ米大統領が北朝鮮の金正恩キムジョンウン朝鮮労働党委員長に日本人拉致問題を提起したのは、初日に行われた１対１の会談の冒頭だったことがわかった。\n",
    "\n",
    "　複数の日本政府関係者が明らかにした。\n",
    "\n",
    "　安倍首相は２月２０日のトランプ氏との電話会談で、拉致問題を正恩氏に提起するよう要請した。トランプ氏の発言は、これに配慮したものとみられる。正恩氏は核・ミサイル問題が最初の議題と想定していたのか、その場で「驚いた表情」を見せたという。\n",
    "\n",
    "　トランプ氏は１対１の会談に続き、２７日の夕食会でも拉致問題を取り上げた。日本政府は「首相の注文通り」（関係者）と歓迎している。政府は日米連携をテコに日朝の首脳による直接対話につなげ、拉致問題を打開したい考えだ。\"\"\""
   ]
  },
  {
   "cell_type": "code",
   "execution_count": 46,
   "metadata": {},
   "outputs": [],
   "source": [
    "list_paragraph = text2paragraphs(text)"
   ]
  },
  {
   "cell_type": "code",
   "execution_count": 56,
   "metadata": {},
   "outputs": [],
   "source": [
    "total_word_dict, word_dict = doc2dicts(list_paragraph)"
   ]
  },
  {
   "cell_type": "code",
   "execution_count": 57,
   "metadata": {},
   "outputs": [],
   "source": [
    "tf_bows = []\n",
    "for i in range(len(word_dict)):\n",
    "    tf_bows.append(compute_TF(word_dict[i]))"
   ]
  },
  {
   "cell_type": "code",
   "execution_count": 59,
   "metadata": {},
   "outputs": [],
   "source": [
    "idfs = compute_IDF(word_dict)"
   ]
  },
  {
   "cell_type": "code",
   "execution_count": 61,
   "metadata": {},
   "outputs": [],
   "source": [
    "tfidf_list = []"
   ]
  },
  {
   "cell_type": "code",
   "execution_count": 62,
   "metadata": {},
   "outputs": [],
   "source": [
    "for i in range(len(word_dict)):\n",
    "    tfidf_list.append(compute_TFIDF(tf_bows[i], idfs))"
   ]
  },
  {
   "cell_type": "code",
   "execution_count": 67,
   "metadata": {},
   "outputs": [
    {
     "data": {
      "text/plain": [
       "0.2772588722239781"
      ]
     },
     "execution_count": 67,
     "metadata": {},
     "output_type": "execute_result"
    }
   ],
   "source": [
    "max(tfidf_list[0].values())"
   ]
  },
  {
   "cell_type": "code",
   "execution_count": 74,
   "metadata": {},
   "outputs": [],
   "source": [
    "from heapq import nlargest\n",
    "ten_largest = nlargest(10, tfidf_list[0], key=tfidf_list[0].get)"
   ]
  },
  {
   "cell_type": "code",
   "execution_count": 72,
   "metadata": {},
   "outputs": [
    {
     "data": {
      "text/plain": [
       "['キム・ジョンウン', '2月', 'わかる', '金正恩', '日本人拉致', '北朝鮮', '1', '2728', '朝鮮労働党委員長', '冒頭']"
      ]
     },
     "execution_count": 72,
     "metadata": {},
     "output_type": "execute_result"
    }
   ],
   "source": [
    "ten_largest"
   ]
  },
  {
   "cell_type": "code",
   "execution_count": 75,
   "metadata": {},
   "outputs": [],
   "source": [
    "import pandas as pd\n",
    "df = pd.DataFrame(tfidf_list)"
   ]
  },
  {
   "cell_type": "code",
   "execution_count": 76,
   "metadata": {},
   "outputs": [
    {
     "data": {
      "text/html": [
       "<div>\n",
       "<style scoped>\n",
       "    .dataframe tbody tr th:only-of-type {\n",
       "        vertical-align: middle;\n",
       "    }\n",
       "\n",
       "    .dataframe tbody tr th {\n",
       "        vertical-align: top;\n",
       "    }\n",
       "\n",
       "    .dataframe thead th {\n",
       "        text-align: right;\n",
       "    }\n",
       "</style>\n",
       "<table border=\"1\" class=\"dataframe\">\n",
       "  <thead>\n",
       "    <tr style=\"text-align: right;\">\n",
       "      <th></th>\n",
       "      <th>)</th>\n",
       "      <th>1</th>\n",
       "      <th>2728</th>\n",
       "      <th>27日</th>\n",
       "      <th>2月</th>\n",
       "      <th>2月20日</th>\n",
       "      <th>、</th>\n",
       "      <th>。</th>\n",
       "      <th>「</th>\n",
       "      <th>」</th>\n",
       "      <th>...</th>\n",
       "      <th>議題</th>\n",
       "      <th>通り</th>\n",
       "      <th>連携</th>\n",
       "      <th>配慮</th>\n",
       "      <th>金正恩</th>\n",
       "      <th>関係者</th>\n",
       "      <th>電話会談</th>\n",
       "      <th>首相</th>\n",
       "      <th>首脳</th>\n",
       "      <th>驚く</th>\n",
       "    </tr>\n",
       "  </thead>\n",
       "  <tbody>\n",
       "    <tr>\n",
       "      <th>0</th>\n",
       "      <td>0.000000</td>\n",
       "      <td>0.277259</td>\n",
       "      <td>0.277259</td>\n",
       "      <td>0.000000</td>\n",
       "      <td>0.277259</td>\n",
       "      <td>0.000000</td>\n",
       "      <td>0.115073</td>\n",
       "      <td>0.0</td>\n",
       "      <td>0.000000</td>\n",
       "      <td>0.000000</td>\n",
       "      <td>...</td>\n",
       "      <td>0.000000</td>\n",
       "      <td>0.000000</td>\n",
       "      <td>0.000000</td>\n",
       "      <td>0.000000</td>\n",
       "      <td>0.277259</td>\n",
       "      <td>0.000000</td>\n",
       "      <td>0.000000</td>\n",
       "      <td>0.000000</td>\n",
       "      <td>0.000000</td>\n",
       "      <td>0.000000</td>\n",
       "    </tr>\n",
       "    <tr>\n",
       "      <th>1</th>\n",
       "      <td>0.000000</td>\n",
       "      <td>0.000000</td>\n",
       "      <td>0.000000</td>\n",
       "      <td>0.000000</td>\n",
       "      <td>0.000000</td>\n",
       "      <td>0.000000</td>\n",
       "      <td>0.000000</td>\n",
       "      <td>0.0</td>\n",
       "      <td>0.000000</td>\n",
       "      <td>0.000000</td>\n",
       "      <td>...</td>\n",
       "      <td>0.000000</td>\n",
       "      <td>0.000000</td>\n",
       "      <td>0.000000</td>\n",
       "      <td>0.000000</td>\n",
       "      <td>0.000000</td>\n",
       "      <td>0.693147</td>\n",
       "      <td>0.000000</td>\n",
       "      <td>0.000000</td>\n",
       "      <td>0.000000</td>\n",
       "      <td>0.000000</td>\n",
       "    </tr>\n",
       "    <tr>\n",
       "      <th>2</th>\n",
       "      <td>0.000000</td>\n",
       "      <td>0.000000</td>\n",
       "      <td>0.000000</td>\n",
       "      <td>0.000000</td>\n",
       "      <td>0.000000</td>\n",
       "      <td>0.277259</td>\n",
       "      <td>0.172609</td>\n",
       "      <td>0.0</td>\n",
       "      <td>0.138629</td>\n",
       "      <td>0.277259</td>\n",
       "      <td>...</td>\n",
       "      <td>0.277259</td>\n",
       "      <td>0.000000</td>\n",
       "      <td>0.000000</td>\n",
       "      <td>0.277259</td>\n",
       "      <td>0.000000</td>\n",
       "      <td>0.000000</td>\n",
       "      <td>0.277259</td>\n",
       "      <td>0.000000</td>\n",
       "      <td>0.000000</td>\n",
       "      <td>0.277259</td>\n",
       "    </tr>\n",
       "    <tr>\n",
       "      <th>3</th>\n",
       "      <td>0.346574</td>\n",
       "      <td>0.346574</td>\n",
       "      <td>0.000000</td>\n",
       "      <td>0.346574</td>\n",
       "      <td>0.000000</td>\n",
       "      <td>0.000000</td>\n",
       "      <td>0.143841</td>\n",
       "      <td>0.0</td>\n",
       "      <td>0.173287</td>\n",
       "      <td>0.000000</td>\n",
       "      <td>...</td>\n",
       "      <td>0.000000</td>\n",
       "      <td>0.346574</td>\n",
       "      <td>0.346574</td>\n",
       "      <td>0.000000</td>\n",
       "      <td>0.000000</td>\n",
       "      <td>0.173287</td>\n",
       "      <td>0.000000</td>\n",
       "      <td>0.346574</td>\n",
       "      <td>0.346574</td>\n",
       "      <td>0.000000</td>\n",
       "    </tr>\n",
       "  </tbody>\n",
       "</table>\n",
       "<p>4 rows × 97 columns</p>\n",
       "</div>"
      ],
      "text/plain": [
       "          )         1      2728       27日        2月     2月20日         、    。  \\\n",
       "0  0.000000  0.277259  0.277259  0.000000  0.277259  0.000000  0.115073  0.0   \n",
       "1  0.000000  0.000000  0.000000  0.000000  0.000000  0.000000  0.000000  0.0   \n",
       "2  0.000000  0.000000  0.000000  0.000000  0.000000  0.277259  0.172609  0.0   \n",
       "3  0.346574  0.346574  0.000000  0.346574  0.000000  0.000000  0.143841  0.0   \n",
       "\n",
       "          「         」    ...           議題        通り        連携        配慮  \\\n",
       "0  0.000000  0.000000    ...     0.000000  0.000000  0.000000  0.000000   \n",
       "1  0.000000  0.000000    ...     0.000000  0.000000  0.000000  0.000000   \n",
       "2  0.138629  0.277259    ...     0.277259  0.000000  0.000000  0.277259   \n",
       "3  0.173287  0.000000    ...     0.000000  0.346574  0.346574  0.000000   \n",
       "\n",
       "        金正恩       関係者      電話会談        首相        首脳        驚く  \n",
       "0  0.277259  0.000000  0.000000  0.000000  0.000000  0.000000  \n",
       "1  0.000000  0.693147  0.000000  0.000000  0.000000  0.000000  \n",
       "2  0.000000  0.000000  0.277259  0.000000  0.000000  0.277259  \n",
       "3  0.000000  0.173287  0.000000  0.346574  0.346574  0.000000  \n",
       "\n",
       "[4 rows x 97 columns]"
      ]
     },
     "execution_count": 76,
     "metadata": {},
     "output_type": "execute_result"
    }
   ],
   "source": [
    "df"
   ]
  },
  {
   "cell_type": "code",
   "execution_count": null,
   "metadata": {},
   "outputs": [],
   "source": []
  }
 ],
 "metadata": {
  "kernelspec": {
   "display_name": "Python 3",
   "language": "python",
   "name": "python3"
  },
  "language_info": {
   "codemirror_mode": {
    "name": "ipython",
    "version": 3
   },
   "file_extension": ".py",
   "mimetype": "text/x-python",
   "name": "python",
   "nbconvert_exporter": "python",
   "pygments_lexer": "ipython3",
   "version": "3.7.1"
  }
 },
 "nbformat": 4,
 "nbformat_minor": 2
}
