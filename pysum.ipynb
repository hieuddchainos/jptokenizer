{
  "nbformat": 4,
  "nbformat_minor": 0,
  "metadata": {
    "colab": {
      "name": "pysum.ipynb",
      "version": "0.3.2",
      "provenance": [],
      "collapsed_sections": [
        "ChcjeANu56pc"
      ]
    },
    "kernelspec": {
      "name": "python3",
      "display_name": "Python 3"
    },
    "accelerator": "GPU"
  },
  "cells": [
    {
      "metadata": {
        "id": "ChcjeANu56pc",
        "colab_type": "text"
      },
      "cell_type": "markdown",
      "source": [
        "#### Install mecab"
      ]
    },
    {
      "metadata": {
        "id": "9vGUsbsQ4cKd",
        "colab_type": "code",
        "outputId": "06c95dfa-f4d9-415c-df33-5356210b4d55",
        "colab": {
          "base_uri": "https://localhost:8080/",
          "height": 513
        }
      },
      "cell_type": "code",
      "source": [
        "# install \"swig\" if can not build eggs for mecab-python3\n",
        "!sudo apt-get install mecab libmecab-dev"
      ],
      "execution_count": 0,
      "outputs": [
        {
          "output_type": "stream",
          "text": [
            "Reading package lists... Done\n",
            "Building dependency tree       \n",
            "Reading state information... Done\n",
            "mecab is already the newest version (0.996-5).\n",
            "swig is already the newest version (3.0.12-1).\n",
            "The following package was automatically installed and is no longer required:\n",
            "  libnvidia-common-410\n",
            "Use 'sudo apt autoremove' to remove it.\n",
            "The following NEW packages will be installed:\n",
            "  libmecab-dev\n",
            "0 upgraded, 1 newly installed, 0 to remove and 10 not upgraded.\n",
            "Need to get 308 kB of archives.\n",
            "After this operation, 3,132 kB of additional disk space will be used.\n",
            "Get:1 http://archive.ubuntu.com/ubuntu bionic/universe amd64 libmecab-dev amd64 0.996-5 [308 kB]\n",
            "Fetched 308 kB in 1s (472 kB/s)\n",
            "debconf: unable to initialize frontend: Dialog\n",
            "debconf: (No usable dialog-like program is installed, so the dialog based frontend cannot be used. at /usr/share/perl5/Debconf/FrontEnd/Dialog.pm line 76, <> line 1.)\n",
            "debconf: falling back to frontend: Readline\n",
            "debconf: unable to initialize frontend: Readline\n",
            "debconf: (This frontend requires a controlling tty.)\n",
            "debconf: falling back to frontend: Teletype\n",
            "dpkg-preconfigure: unable to re-open stdin: \n",
            "Selecting previously unselected package libmecab-dev.\n",
            "(Reading database ... 132239 files and directories currently installed.)\n",
            "Preparing to unpack .../libmecab-dev_0.996-5_amd64.deb ...\n",
            "Unpacking libmecab-dev (0.996-5) ...\n",
            "Setting up libmecab-dev (0.996-5) ...\n",
            "Processing triggers for man-db (2.8.3-2ubuntu0.1) ...\n"
          ],
          "name": "stdout"
        }
      ]
    },
    {
      "metadata": {
        "id": "aET_pOu64hX-",
        "colab_type": "code",
        "outputId": "05eaef6d-86d4-4a2d-bbae-74ef83a4986c",
        "colab": {
          "base_uri": "https://localhost:8080/",
          "height": 258
        }
      },
      "cell_type": "code",
      "source": [
        "!pip install mecab-python3 pysummarization"
      ],
      "execution_count": 0,
      "outputs": [
        {
          "output_type": "stream",
          "text": [
            "Collecting mecab-python3\n",
            "  Using cached https://files.pythonhosted.org/packages/ac/48/295efe525df40cbc2173748eb869290e81a57e835bc41f6d3834fc5dad5f/mecab-python3-0.996.1.tar.gz\n",
            "Collecting pysummarization\n",
            "  Downloading https://files.pythonhosted.org/packages/17/50/2b70caf3092c8b6f01022ba0adff9312fc3172be59322d60857a00bf3cab/pysummarization-1.1.1-py3-none-any.whl\n",
            "Requirement already satisfied: nltk in /usr/local/lib/python3.6/dist-packages (from pysummarization) (3.2.5)\n",
            "Requirement already satisfied: numpy in /usr/local/lib/python3.6/dist-packages (from pysummarization) (1.14.6)\n",
            "Requirement already satisfied: six in /usr/local/lib/python3.6/dist-packages (from nltk->pysummarization) (1.11.0)\n",
            "Building wheels for collected packages: mecab-python3\n",
            "  Building wheel for mecab-python3 (setup.py) ... \u001b[?25ldone\n",
            "\u001b[?25h  Stored in directory: /root/.cache/pip/wheels/73/71/4f/63a79925b5e9bb38932043917cc60140beb8022ac14a952b1e\n",
            "Successfully built mecab-python3\n",
            "Installing collected packages: mecab-python3, pysummarization\n",
            "Successfully installed mecab-python3-0.996.1 pysummarization-1.1.1\n"
          ],
          "name": "stdout"
        }
      ]
    },
    {
      "metadata": {
        "id": "bRXJiAKV6UFm",
        "colab_type": "text"
      },
      "cell_type": "markdown",
      "source": [
        "#### Import libraby"
      ]
    },
    {
      "metadata": {
        "id": "y4Ootu53417S",
        "colab_type": "code",
        "colab": {}
      },
      "cell_type": "code",
      "source": [
        "from pysummarization.nlpbase.auto_abstractor import AutoAbstractor\n",
        "from pysummarization.tokenizabledoc.mecab_tokenizer import MeCabTokenizer\n",
        "from pysummarization.abstractabledoc.top_n_rank_abstractor import TopNRankAbstractor"
      ],
      "execution_count": 0,
      "outputs": []
    },
    {
      "metadata": {
        "id": "ncH0RYKM60es",
        "colab_type": "text"
      },
      "cell_type": "markdown",
      "source": [
        "#### Example"
      ]
    },
    {
      "metadata": {
        "id": "0Kr1D2wP47_f",
        "colab_type": "code",
        "colab": {}
      },
      "cell_type": "code",
      "source": [
        "document =  \"\"\"２月２７～２８日の米朝首脳会談で、トランプ米大統領が北朝鮮の金正恩キムジョンウン朝鮮労働党委員長に日本人拉致問題を提起したのは、初日に行われた１対１の会談の冒頭だったことがわかった。\n",
        "\n",
        "　複数の日本政府関係者が明らかにした。\n",
        "\n",
        "　安倍首相は２月２０日のトランプ氏との電話会談で、拉致問題を正恩氏に提起するよう要請した。トランプ氏の発言は、これに配慮したものとみられる。正恩氏は核・ミサイル問題が最初の議題と想定していたのか、その場で「驚いた表情」を見せたという。\n",
        "\n",
        "　トランプ氏は１対１の会談に続き、２７日の夕食会でも拉致問題を取り上げた。日本政府は「首相の注文通り」（関係者）と歓迎している。政府は日米連携をテコに日朝の首脳による直接対話につなげ、拉致問題を打開したい考えだ。\"\"\""
      ],
      "execution_count": 0,
      "outputs": []
    },
    {
      "metadata": {
        "id": "k8gQkSTHjhrl",
        "colab_type": "code",
        "colab": {}
      },
      "cell_type": "code",
      "source": [
        "document = \"\"\"「レオパレス21」の建物で施工不備が相次いでいる問題で、外部の弁護士による調査委員会がまとめた中間報告が明らかになりました。当時の社長の指示のもと外壁などに設計図と異なる材料を使う方向性が示されたとしたうえで、工期の短縮を求められていたことが背景にあったとしています。\n",
        "\n",
        "レオパレス21が平成５年から13年にかけて建設した建物では、部屋を区切る壁や外壁に設計図と異なる材料を使い、耐火構造が法律の基準を満たさないなどの不備が相次いで明らかになり、特に危険性の高い641棟の入居者およそ7700人に転居を求める事態となっています。\n",
        "\n",
        "会社は、外部の弁護士３人による調査委員会を設けて、原因究明を進め中間報告を取りまとめました。\n",
        "\n",
        "それによりますと、設計や開発の担当者へのヒアリングなどから、平成18年５月までトップをつとめていた当時の社長の指示のもと工事の効率化などを目的として設計図と異なる材料を使う方向性が示されたとしています。\n",
        "\n",
        "そのうえで背景には、学生や社会人の新生活が始まるタイミングに建物の完成が間に合うよう工期の短縮が求められていたことが、大きく関係していたとみられると指摘しています。\n",
        "\n",
        "そして、「不備の原因・背景となる問題は会社の一部の部署にとどまるものではなく組織的・構造的に存在していた」と結論づける一方で、「意図を持って組織的に行われていたかどうかは、さらに調査が必要だ」としています。\n",
        "\n",
        "調査委員会は、こうした内容をすでに国土交通省に報告していて、18日午後、正式に発表することにしています。\"\"\""
      ],
      "execution_count": 0,
      "outputs": []
    },
    {
      "metadata": {
        "id": "Jz9MrLkGkigw",
        "colab_type": "code",
        "colab": {}
      },
      "cell_type": "code",
      "source": [
        "sentenceList = [sentence for sentence in document.split('。') if sentence]\n",
        "sentenceCount = len(sentenceList)"
      ],
      "execution_count": 0,
      "outputs": []
    },
    {
      "metadata": {
        "id": "nuePvT7N5IDN",
        "colab_type": "code",
        "outputId": "1062cf83-9fe3-462b-df25-540a729ce6a3",
        "colab": {
          "base_uri": "https://localhost:8080/",
          "height": 139
        }
      },
      "cell_type": "code",
      "source": [
        "# summarize with ratio around 1/3\n",
        "n_sentence = (sentenceCount+2)//3 # upper integer of len/3\n",
        "\n",
        "# Object of automatic summarization.\n",
        "auto_abstractor = AutoAbstractor()\n",
        "# Set tokenizer for Japanese(Mecab).\n",
        "auto_abstractor.tokenizable_doc = MeCabTokenizer()\n",
        "# Set delimiter for making a list of sentence.\n",
        "auto_abstractor.delimiter_list = [\"。\", \"\\n\"]\n",
        "# Object of abstracting and filtering document.\n",
        "abstractable_doc = TopNRankAbstractor()\n",
        "abstractable_doc.set_top_n(n_sentence)\n",
        "# Summarize document.\n",
        "result_dict = auto_abstractor.summarize(document, abstractable_doc)\n",
        "\n",
        "# Output result.\n",
        "for sentence in result_dict[\"summarize_result\"]:\n",
        "    print(sentence)"
      ],
      "execution_count": 23,
      "outputs": [
        {
          "output_type": "stream",
          "text": [
            "「レオパレス21」の建物で施工不備が相次いでいる問題で、外部の弁護士による調査委員会がまとめた中間報告が明らかになりました。\n",
            "\n",
            "当時の社長の指示のもと外壁などに設計図と異なる材料を使う方向性が示されたとしたうえで、工期の短縮を求められていたことが背景にあったとしています。\n",
            "\n",
            "レオパレス21が平成５年から13年にかけて建設した建物では、部屋を区切る壁や外壁に設計図と異なる材料を使い、耐火構造が法律の基準を満たさないなどの不備が相次いで明らかになり、特に危険性の高い641棟の入居者およそ7700人に転居を求める事態となっています。\n",
            "\n"
          ],
          "name": "stdout"
        }
      ]
    },
    {
      "metadata": {
        "id": "aeU_aowfp1Ep",
        "colab_type": "code",
        "colab": {}
      },
      "cell_type": "code",
      "source": [
        "outputText = \"\"\n",
        "for sentence in result_dict[\"summarize_result\"]:\n",
        "    outputText += sentence"
      ],
      "execution_count": 0,
      "outputs": []
    },
    {
      "metadata": {
        "id": "q28IW3Rd304W",
        "colab_type": "code",
        "colab": {}
      },
      "cell_type": "code",
      "source": [
        ""
      ],
      "execution_count": 0,
      "outputs": []
    }
  ]
}